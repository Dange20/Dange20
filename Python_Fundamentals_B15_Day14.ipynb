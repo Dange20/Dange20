{
 "cells": [
  {
   "cell_type": "code",
   "execution_count": null,
   "metadata": {},
   "outputs": [],
   "source": [
    "Initializing the classes by using a special method as -------> Constructor!"
   ]
  },
  {
   "cell_type": "code",
   "execution_count": null,
   "metadata": {},
   "outputs": [],
   "source": [
    "Req: To create a TV Class\n",
    "    We will be creating the methods for the TV."
   ]
  },
  {
   "cell_type": "markdown",
   "metadata": {},
   "source": [
    "# 1.Assignment : To design TV model"
   ]
  },
  {
   "cell_type": "code",
   "execution_count": 2,
   "metadata": {},
   "outputs": [],
   "source": [
    "\n",
    "class Tv:\n",
    "    \"\"\"A simple idea to design a tv\"\"\"\n",
    "    def __init__(self,age,model):\n",
    "        \n",
    "        \n",
    "        \"\"\"Initializing the attribute\"\"\"\n",
    "        \n",
    "        self.age = age\n",
    "        \n",
    "        self.model = model\n",
    "        \n",
    "        print('It is ready to design it')\n",
    "    \n",
    "    def test(self):\n",
    "        \"\"\"Testing the model of tv\"\"\"\n",
    "        print(f\"{self.model} is now testing\")\n",
    "\n",
    "    def run_over(self):\n",
    "        \n",
    "        \"\"\"Execute the tv and running over\"\"\"\n",
    "        \n",
    "        print(f\"{self.model} is now rolling\")"
   ]
  },
  {
   "cell_type": "code",
   "execution_count": 3,
   "metadata": {},
   "outputs": [
    {
     "name": "stdout",
     "output_type": "stream",
     "text": [
      "It is ready to design it\n"
     ]
    }
   ],
   "source": [
    "xobj = Tv('redmi',6)"
   ]
  },
  {
   "cell_type": "code",
   "execution_count": 4,
   "metadata": {},
   "outputs": [
    {
     "name": "stdout",
     "output_type": "stream",
     "text": [
      "6 is now testing\n"
     ]
    }
   ],
   "source": [
    "xobj.test()"
   ]
  },
  {
   "cell_type": "code",
   "execution_count": 5,
   "metadata": {},
   "outputs": [
    {
     "name": "stdout",
     "output_type": "stream",
     "text": [
      "6 is now rolling\n"
     ]
    }
   ],
   "source": [
    "xobj.run_over()"
   ]
  },
  {
   "cell_type": "code",
   "execution_count": 7,
   "metadata": {},
   "outputs": [],
   "source": [
    "class Dog:\n",
    "    \"\"\"A simple attempt to model a dog\"\"\"\n",
    "    \n",
    "    def __init__(self,name,age):\n",
    "        self.name = name\n",
    "        self.age = age\n",
    "        print('it got executed')\n",
    "    def sit(self):\n",
    "        \"\"\"Simulating a dog siiting position as per our command\"\"\"\n",
    "        print(f\"{self.name} is now sitting\")\n",
    "    def roll_over(self):\n",
    "        \"\"\"Simulating a dog roll over position as per our command\"\"\"\n",
    "        print(f\"{self.name} is now rolling over\")"
   ]
  },
  {
   "cell_type": "code",
   "execution_count": 11,
   "metadata": {},
   "outputs": [
    {
     "name": "stdout",
     "output_type": "stream",
     "text": [
      "it got executed\n"
     ]
    }
   ],
   "source": [
    "xobj = Dog('Bruno', 5)"
   ]
  },
  {
   "cell_type": "code",
   "execution_count": 13,
   "metadata": {},
   "outputs": [
    {
     "name": "stdout",
     "output_type": "stream",
     "text": [
      "Bruno is now sitting\n"
     ]
    }
   ],
   "source": [
    "xobj.sit()"
   ]
  },
  {
   "cell_type": "code",
   "execution_count": 14,
   "metadata": {},
   "outputs": [
    {
     "name": "stdout",
     "output_type": "stream",
     "text": [
      "Bruno is now rolling over\n"
     ]
    }
   ],
   "source": [
    "xobj.roll_over()"
   ]
  },
  {
   "cell_type": "markdown",
   "metadata": {},
   "source": [
    "# 2.Assignment : To design the page"
   ]
  },
  {
   "cell_type": "code",
   "execution_count": 33,
   "metadata": {},
   "outputs": [],
   "source": [
    "class test2:\n",
    "    \"\"\"An attempt to design the page\"\"\"\n",
    "\n",
    "    def createname(self,name):\n",
    "        \"\"\"Taking the name input from the user\"\"\"\n",
    "        self.name = name\n",
    "          \n",
    "    def displayname(self):\n",
    "        print(self.name)\n",
    "        \n",
    "    def greetuser(self):\n",
    "        print(f\"Good to have you on Amazon again, {self.name}\")"
   ]
  },
  {
   "cell_type": "code",
   "execution_count": 34,
   "metadata": {},
   "outputs": [],
   "source": [
    "yobj = test2()"
   ]
  },
  {
   "cell_type": "code",
   "execution_count": 36,
   "metadata": {},
   "outputs": [],
   "source": [
    "yobj.createname('Saurabh')"
   ]
  },
  {
   "cell_type": "code",
   "execution_count": 37,
   "metadata": {},
   "outputs": [
    {
     "name": "stdout",
     "output_type": "stream",
     "text": [
      "Saurabh\n"
     ]
    }
   ],
   "source": [
    "yobj.displayname()"
   ]
  },
  {
   "cell_type": "code",
   "execution_count": 38,
   "metadata": {},
   "outputs": [
    {
     "name": "stdout",
     "output_type": "stream",
     "text": [
      "Good to have you on Amazon again, Saurabh\n"
     ]
    }
   ],
   "source": [
    "yobj.greetuser()"
   ]
  },
  {
   "cell_type": "code",
   "execution_count": null,
   "metadata": {},
   "outputs": [],
   "source": []
  }
 ],
 "metadata": {
  "kernelspec": {
   "display_name": "Python 3",
   "language": "python",
   "name": "python3"
  },
  "language_info": {
   "codemirror_mode": {
    "name": "ipython",
    "version": 3
   },
   "file_extension": ".py",
   "mimetype": "text/x-python",
   "name": "python",
   "nbconvert_exporter": "python",
   "pygments_lexer": "ipython3",
   "version": "3.7.4"
  }
 },
 "nbformat": 4,
 "nbformat_minor": 2
}
