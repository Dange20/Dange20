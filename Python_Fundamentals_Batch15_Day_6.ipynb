{
 "cells": [
  {
   "cell_type": "code",
   "execution_count": null,
   "metadata": {},
   "outputs": [],
   "source": [
    "#Introduction to looping statements:"
   ]
  },
  {
   "cell_type": "code",
   "execution_count": null,
   "metadata": {},
   "outputs": [],
   "source": [
    "for loops introduction:"
   ]
  },
  {
   "cell_type": "code",
   "execution_count": 1,
   "metadata": {},
   "outputs": [
    {
     "name": "stdout",
     "output_type": "stream",
     "text": [
      "['Onion', 'potato', 'capsicum', 'cabbage', 'cauliflower', 'beans']\n"
     ]
    }
   ],
   "source": [
    "vegetables = ['Onion', 'potato', 'capsicum', 'cabbage', 'cauliflower', 'beans']\n",
    "print(vegetables)"
   ]
  },
  {
   "cell_type": "code",
   "execution_count": 2,
   "metadata": {},
   "outputs": [
    {
     "name": "stdout",
     "output_type": "stream",
     "text": [
      "eating all the vegetables are good for health, beans\n"
     ]
    }
   ],
   "source": [
    "print(f\"eating all the vegetables are good for health, {vegetables[5]}\")"
   ]
  },
  {
   "cell_type": "code",
   "execution_count": 3,
   "metadata": {},
   "outputs": [
    {
     "name": "stdout",
     "output_type": "stream",
     "text": [
      "['Onion', 'potato', 'capsicum', 'cabbage', 'cauliflower', 'beans']\n",
      "['Onion', 'potato', 'capsicum', 'cabbage', 'cauliflower', 'beans']\n",
      "['Onion', 'potato', 'capsicum', 'cabbage', 'cauliflower', 'beans']\n",
      "['Onion', 'potato', 'capsicum', 'cabbage', 'cauliflower', 'beans']\n",
      "['Onion', 'potato', 'capsicum', 'cabbage', 'cauliflower', 'beans']\n",
      "['Onion', 'potato', 'capsicum', 'cabbage', 'cauliflower', 'beans']\n"
     ]
    }
   ],
   "source": [
    "for vegetable in vegetables:\n",
    "    print(vegetables)"
   ]
  },
  {
   "cell_type": "code",
   "execution_count": 4,
   "metadata": {},
   "outputs": [
    {
     "name": "stdout",
     "output_type": "stream",
     "text": [
      "eating all the vegetables are good for health, ['Onion', 'potato', 'capsicum', 'cabbage', 'cauliflower', 'beans']\n",
      "eating all the vegetables are good for health, ['Onion', 'potato', 'capsicum', 'cabbage', 'cauliflower', 'beans']\n",
      "eating all the vegetables are good for health, ['Onion', 'potato', 'capsicum', 'cabbage', 'cauliflower', 'beans']\n",
      "eating all the vegetables are good for health, ['Onion', 'potato', 'capsicum', 'cabbage', 'cauliflower', 'beans']\n",
      "eating all the vegetables are good for health, ['Onion', 'potato', 'capsicum', 'cabbage', 'cauliflower', 'beans']\n",
      "eating all the vegetables are good for health, ['Onion', 'potato', 'capsicum', 'cabbage', 'cauliflower', 'beans']\n"
     ]
    }
   ],
   "source": [
    "for vegetable in vegetables:\n",
    "    print(f\"eating all the vegetables are good for health, {vegetables}\")"
   ]
  },
  {
   "cell_type": "code",
   "execution_count": null,
   "metadata": {},
   "outputs": [],
   "source": [
    "#Enhancement of the code: Indentation:-"
   ]
  },
  {
   "cell_type": "code",
   "execution_count": 5,
   "metadata": {},
   "outputs": [
    {
     "name": "stdout",
     "output_type": "stream",
     "text": [
      "Onion\n",
      "potato\n",
      "capsicum\n",
      "cabbage\n",
      "cauliflower\n",
      "beans\n"
     ]
    }
   ],
   "source": [
    "for x in vegetables:\n",
    "    print(x)"
   ]
  },
  {
   "cell_type": "code",
   "execution_count": 7,
   "metadata": {},
   "outputs": [
    {
     "name": "stdout",
     "output_type": "stream",
     "text": [
      "eating all the vegetables are good for health, ['Onion', 'potato', 'capsicum', 'cabbage', 'cauliflower', 'beans']\n",
      "eating all the vegetables are good for health, ['Onion', 'potato', 'capsicum', 'cabbage', 'cauliflower', 'beans']\n",
      "eating all the vegetables are good for health, ['Onion', 'potato', 'capsicum', 'cabbage', 'cauliflower', 'beans']\n",
      "eating all the vegetables are good for health, ['Onion', 'potato', 'capsicum', 'cabbage', 'cauliflower', 'beans']\n",
      "eating all the vegetables are good for health, ['Onion', 'potato', 'capsicum', 'cabbage', 'cauliflower', 'beans']\n",
      "eating all the vegetables are good for health, ['Onion', 'potato', 'capsicum', 'cabbage', 'cauliflower', 'beans']\n",
      "I love, beans.\n",
      "\n"
     ]
    }
   ],
   "source": [
    "for x in vegetables:\n",
    "     print(f\"eating all the vegetables are good for health, {vegetables}\")\n",
    "print(f\"I love, {x}.\\n\")"
   ]
  },
  {
   "cell_type": "code",
   "execution_count": null,
   "metadata": {},
   "outputs": [],
   "source": [
    "#Making a numerical list:- 70 - 100"
   ]
  },
  {
   "cell_type": "code",
   "execution_count": 8,
   "metadata": {},
   "outputs": [
    {
     "name": "stdout",
     "output_type": "stream",
     "text": [
      "70\n",
      "71\n",
      "72\n",
      "73\n",
      "74\n",
      "75\n",
      "76\n",
      "77\n",
      "78\n",
      "79\n",
      "80\n",
      "81\n",
      "82\n",
      "83\n",
      "84\n",
      "85\n",
      "86\n",
      "87\n",
      "88\n",
      "89\n",
      "90\n",
      "91\n",
      "92\n",
      "93\n",
      "94\n",
      "95\n",
      "96\n",
      "97\n",
      "98\n",
      "99\n"
     ]
    }
   ],
   "source": [
    "for value in range(70,100):\n",
    "    print(value)"
   ]
  },
  {
   "cell_type": "code",
   "execution_count": 10,
   "metadata": {},
   "outputs": [
    {
     "name": "stdout",
     "output_type": "stream",
     "text": [
      "[70, 71, 72, 73, 74, 75, 76, 77, 78, 79, 80, 81, 82, 83, 84, 85, 86, 87, 88, 89, 90, 91, 92, 93, 94, 95, 96, 97, 98, 99, 100]\n"
     ]
    }
   ],
   "source": [
    "Numbers = list(range(70,101))\n",
    "print(Numbers)"
   ]
  }
 ],
 "metadata": {
  "kernelspec": {
   "display_name": "Python 3",
   "language": "python",
   "name": "python3"
  },
  "language_info": {
   "codemirror_mode": {
    "name": "ipython",
    "version": 3
   },
   "file_extension": ".py",
   "mimetype": "text/x-python",
   "name": "python",
   "nbconvert_exporter": "python",
   "pygments_lexer": "ipython3",
   "version": "3.7.4"
  }
 },
 "nbformat": 4,
 "nbformat_minor": 2
}
